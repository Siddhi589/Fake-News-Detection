{
 "cells": [
  {
   "cell_type": "markdown",
   "id": "27c47dd4",
   "metadata": {},
   "source": [
    "Importing the (Dependencies)"
   ]
  },
  {
   "cell_type": "code",
   "execution_count": 1,
   "id": "7a40b436",
   "metadata": {},
   "outputs": [],
   "source": [
    "import pandas as pd\n",
    "import numpy as np\n",
    "import re\n",
    "from nltk.corpus  import stopwords\n",
    "from nltk.stem.porter import PorterStemmer\n",
    "from sklearn.feature_extraction.text import TfidfVectorizer\n",
    "import matplotlib.pyplot as plt\n",
    "import seaborn as sns\n",
    "from sklearn.metrics import classification_report,confusion_matrix,accuracy_score\n",
    "import nltk"
   ]
  },
  {
   "cell_type": "code",
   "execution_count": null,
   "id": "773bb639",
   "metadata": {},
   "outputs": [
    {
     "name": "stderr",
     "output_type": "stream",
     "text": [
      "[nltk_data] Downloading package stopwords to\n",
      "[nltk_data]     C:\\Users\\DELL\\AppData\\Roaming\\nltk_data...\n"
     ]
    },
    {
     "name": "stdout",
     "output_type": "stream",
     "text": [
      "['i', 'me', 'my', 'myself', 'we', 'our', 'ours', 'ourselves', 'you', \"you're\", \"you've\", \"you'll\", \"you'd\", 'your', 'yours', 'yourself', 'yourselves', 'he', 'him', 'his', 'himself', 'she', \"she's\", 'her', 'hers', 'herself', 'it', \"it's\", 'its', 'itself', 'they', 'them', 'their', 'theirs', 'themselves', 'what', 'which', 'who', 'whom', 'this', 'that', \"that'll\", 'these', 'those', 'am', 'is', 'are', 'was', 'were', 'be', 'been', 'being', 'have', 'has', 'had', 'having', 'do', 'does', 'did', 'doing', 'a', 'an', 'the', 'and', 'but', 'if', 'or', 'because', 'as', 'until', 'while', 'of', 'at', 'by', 'for', 'with', 'about', 'against', 'between', 'into', 'through', 'during', 'before', 'after', 'above', 'below', 'to', 'from', 'up', 'down', 'in', 'out', 'on', 'off', 'over', 'under', 'again', 'further', 'then', 'once', 'here', 'there', 'when', 'where', 'why', 'how', 'all', 'any', 'both', 'each', 'few', 'more', 'most', 'other', 'some', 'such', 'no', 'nor', 'not', 'only', 'own', 'same', 'so', 'than', 'too', 'very', 's', 't', 'can', 'will', 'just', 'don', \"don't\", 'should', \"should've\", 'now', 'd', 'll', 'm', 'o', 're', 've', 'y', 'ain', 'aren', \"aren't\", 'couldn', \"couldn't\", 'didn', \"didn't\", 'doesn', \"doesn't\", 'hadn', \"hadn't\", 'hasn', \"hasn't\", 'haven', \"haven't\", 'isn', \"isn't\", 'ma', 'mightn', \"mightn't\", 'mustn', \"mustn't\", 'needn', \"needn't\", 'shan', \"shan't\", 'shouldn', \"shouldn't\", 'wasn', \"wasn't\", 'weren', \"weren't\", 'won', \"won't\", 'wouldn', \"wouldn't\"]\n"
     ]
    },
    {
     "name": "stderr",
     "output_type": "stream",
     "text": [
      "[nltk_data]   Package stopwords is already up-to-date!\n"
     ]
    }
   ],
   "source": [
    "import nltk\n",
    "nltk.download('stopwords')\n",
    "print(stopwords.words('english'))"
   ]
  },
  {
   "cell_type": "markdown",
   "id": "3cd68508",
   "metadata": {},
   "source": [
    "Printing Stopwords"
   ]
  },
  {
   "cell_type": "markdown",
   "id": "b9414460",
   "metadata": {},
   "source": [
    "Data Preprocessing"
   ]
  },
  {
   "cell_type": "code",
   "execution_count": null,
   "id": "db26bd2b",
   "metadata": {
    "execution": {
     "iopub.execute_input": "2022-07-30T08:08:33.333559Z",
     "iopub.status.busy": "2022-07-30T08:08:33.333173Z",
     "iopub.status.idle": "2022-07-30T08:08:35.898001Z",
     "shell.execute_reply": "2022-07-30T08:08:35.896933Z"
    },
    "papermill": {
     "duration": 2.577739,
     "end_time": "2022-07-30T08:08:35.900535",
     "exception": false,
     "start_time": "2022-07-30T08:08:33.322796",
     "status": "completed"
    },
    "tags": []
   },
   "outputs": [
    {
     "data": {
      "text/html": [
       "<div>\n",
       "<style scoped>\n",
       "    .dataframe tbody tr th:only-of-type {\n",
       "        vertical-align: middle;\n",
       "    }\n",
       "\n",
       "    .dataframe tbody tr th {\n",
       "        vertical-align: top;\n",
       "    }\n",
       "\n",
       "    .dataframe thead th {\n",
       "        text-align: right;\n",
       "    }\n",
       "</style>\n",
       "<table border=\"1\" class=\"dataframe\">\n",
       "  <thead>\n",
       "    <tr style=\"text-align: right;\">\n",
       "      <th></th>\n",
       "      <th>id</th>\n",
       "      <th>title</th>\n",
       "      <th>author</th>\n",
       "      <th>text</th>\n",
       "      <th>label</th>\n",
       "    </tr>\n",
       "  </thead>\n",
       "  <tbody>\n",
       "    <tr>\n",
       "      <th>0</th>\n",
       "      <td>0</td>\n",
       "      <td>House Dem Aide: We Didn’t Even See Comey’s Let...</td>\n",
       "      <td>Darrell Lucus</td>\n",
       "      <td>House Dem Aide: We Didn’t Even See Comey’s Let...</td>\n",
       "      <td>1</td>\n",
       "    </tr>\n",
       "    <tr>\n",
       "      <th>1</th>\n",
       "      <td>1</td>\n",
       "      <td>FLYNN: Hillary Clinton, Big Woman on Campus - ...</td>\n",
       "      <td>Daniel J. Flynn</td>\n",
       "      <td>Ever get the feeling your life circles the rou...</td>\n",
       "      <td>0</td>\n",
       "    </tr>\n",
       "    <tr>\n",
       "      <th>2</th>\n",
       "      <td>2</td>\n",
       "      <td>Why the Truth Might Get You Fired</td>\n",
       "      <td>Consortiumnews.com</td>\n",
       "      <td>Why the Truth Might Get You Fired October 29, ...</td>\n",
       "      <td>1</td>\n",
       "    </tr>\n",
       "    <tr>\n",
       "      <th>3</th>\n",
       "      <td>3</td>\n",
       "      <td>15 Civilians Killed In Single US Airstrike Hav...</td>\n",
       "      <td>Jessica Purkiss</td>\n",
       "      <td>Videos 15 Civilians Killed In Single US Airstr...</td>\n",
       "      <td>1</td>\n",
       "    </tr>\n",
       "    <tr>\n",
       "      <th>4</th>\n",
       "      <td>4</td>\n",
       "      <td>Iranian woman jailed for fictional unpublished...</td>\n",
       "      <td>Howard Portnoy</td>\n",
       "      <td>Print \\nAn Iranian woman has been sentenced to...</td>\n",
       "      <td>1</td>\n",
       "    </tr>\n",
       "  </tbody>\n",
       "</table>\n",
       "</div>"
      ],
      "text/plain": [
       "   id                                              title              author  \\\n",
       "0   0  House Dem Aide: We Didn’t Even See Comey’s Let...       Darrell Lucus   \n",
       "1   1  FLYNN: Hillary Clinton, Big Woman on Campus - ...     Daniel J. Flynn   \n",
       "2   2                  Why the Truth Might Get You Fired  Consortiumnews.com   \n",
       "3   3  15 Civilians Killed In Single US Airstrike Hav...     Jessica Purkiss   \n",
       "4   4  Iranian woman jailed for fictional unpublished...      Howard Portnoy   \n",
       "\n",
       "                                                text  label  \n",
       "0  House Dem Aide: We Didn’t Even See Comey’s Let...      1  \n",
       "1  Ever get the feeling your life circles the rou...      0  \n",
       "2  Why the Truth Might Get You Fired October 29, ...      1  \n",
       "3  Videos 15 Civilians Killed In Single US Airstr...      1  \n",
       "4  Print \\nAn Iranian woman has been sentenced to...      1  "
      ]
     },
     "execution_count": 3,
     "metadata": {},
     "output_type": "execute_result"
    }
   ],
   "source": [
    "# Loading The dataset to pandas Dataframe\n",
    "#   1 : Fake News \n",
    "#   0 : Real News\n",
    "raw_data = pd.read_csv('train.csv')\n",
    "raw_data.head()"
   ]
  },
  {
   "cell_type": "code",
   "execution_count": 4,
   "id": "6833465a",
   "metadata": {
    "execution": {
     "iopub.execute_input": "2022-07-30T08:08:35.921817Z",
     "iopub.status.busy": "2022-07-30T08:08:35.921135Z",
     "iopub.status.idle": "2022-07-30T08:08:35.929278Z",
     "shell.execute_reply": "2022-07-30T08:08:35.928273Z"
    },
    "papermill": {
     "duration": 0.021157,
     "end_time": "2022-07-30T08:08:35.931387",
     "exception": false,
     "start_time": "2022-07-30T08:08:35.910230",
     "status": "completed"
    },
    "tags": []
   },
   "outputs": [
    {
     "data": {
      "text/plain": [
       "(20800, 5)"
      ]
     },
     "execution_count": 4,
     "metadata": {},
     "output_type": "execute_result"
    }
   ],
   "source": [
    "raw_data.shape"
   ]
  },
  {
   "cell_type": "code",
   "execution_count": 4,
   "id": "92aaf712",
   "metadata": {
    "execution": {
     "iopub.execute_input": "2022-07-30T08:08:36.005358Z",
     "iopub.status.busy": "2022-07-30T08:08:36.004945Z",
     "iopub.status.idle": "2022-07-30T08:08:36.030404Z",
     "shell.execute_reply": "2022-07-30T08:08:36.029290Z"
    },
    "papermill": {
     "duration": 0.040016,
     "end_time": "2022-07-30T08:08:36.033438",
     "exception": false,
     "start_time": "2022-07-30T08:08:35.993422",
     "status": "completed"
    },
    "tags": []
   },
   "outputs": [],
   "source": [
    "#raw_data.info()"
   ]
  },
  {
   "cell_type": "code",
   "execution_count": 5,
   "id": "1e0f2883",
   "metadata": {
    "execution": {
     "iopub.execute_input": "2022-07-30T08:08:36.056908Z",
     "iopub.status.busy": "2022-07-30T08:08:36.056272Z",
     "iopub.status.idle": "2022-07-30T08:08:36.074803Z",
     "shell.execute_reply": "2022-07-30T08:08:36.073734Z"
    },
    "papermill": {
     "duration": 0.032036,
     "end_time": "2022-07-30T08:08:36.077052",
     "exception": false,
     "start_time": "2022-07-30T08:08:36.045016",
     "status": "completed"
    },
    "tags": []
   },
   "outputs": [
    {
     "data": {
      "text/plain": [
       "id           0\n",
       "title      558\n",
       "author    1957\n",
       "text        39\n",
       "label        0\n",
       "dtype: int64"
      ]
     },
     "execution_count": 5,
     "metadata": {},
     "output_type": "execute_result"
    }
   ],
   "source": [
    "# counting the missing values from dataset\n",
    "raw_data.isnull().sum()"
   ]
  },
  {
   "cell_type": "code",
   "execution_count": 6,
   "id": "6c1f129a",
   "metadata": {
    "execution": {
     "iopub.execute_input": "2022-07-30T08:08:36.270136Z",
     "iopub.status.busy": "2022-07-30T08:08:36.269772Z",
     "iopub.status.idle": "2022-07-30T08:08:36.286249Z",
     "shell.execute_reply": "2022-07-30T08:08:36.285169Z"
    },
    "papermill": {
     "duration": 0.030555,
     "end_time": "2022-07-30T08:08:36.288869",
     "exception": false,
     "start_time": "2022-07-30T08:08:36.258314",
     "status": "completed"
    },
    "tags": []
   },
   "outputs": [],
   "source": [
    "#replacing null values with empty string\n",
    "\n",
    "raw_data = raw_data.fillna('')"
   ]
  },
  {
   "cell_type": "code",
   "execution_count": 7,
   "id": "b007cb2e",
   "metadata": {
    "execution": {
     "iopub.execute_input": "2022-07-30T08:08:36.358387Z",
     "iopub.status.busy": "2022-07-30T08:08:36.357260Z",
     "iopub.status.idle": "2022-07-30T08:08:36.376553Z",
     "shell.execute_reply": "2022-07-30T08:08:36.375522Z"
    },
    "papermill": {
     "duration": 0.034513,
     "end_time": "2022-07-30T08:08:36.378998",
     "exception": false,
     "start_time": "2022-07-30T08:08:36.344485",
     "status": "completed"
    },
    "tags": []
   },
   "outputs": [
    {
     "data": {
      "text/plain": [
       "0        Darrell Lucus House Dem Aide: We Didn’t Even S...\n",
       "1        Daniel J. Flynn FLYNN: Hillary Clinton, Big Wo...\n",
       "2        Consortiumnews.com Why the Truth Might Get You...\n",
       "3        Jessica Purkiss 15 Civilians Killed In Single ...\n",
       "4        Howard Portnoy Iranian woman jailed for fictio...\n",
       "                               ...                        \n",
       "20795    Jerome Hudson Rapper T.I.: Trump a ’Poster Chi...\n",
       "20796    Benjamin Hoffman N.F.L. Playoffs: Schedule, Ma...\n",
       "20797    Michael J. de la Merced and Rachel Abrams Macy...\n",
       "20798    Alex Ansary NATO, Russia To Hold Parallel Exer...\n",
       "20799              David Swanson What Keeps the F-35 Alive\n",
       "Name: content, Length: 20800, dtype: object"
      ]
     },
     "execution_count": 7,
     "metadata": {},
     "output_type": "execute_result"
    }
   ],
   "source": [
    "#merging the author name and news title  \n",
    "\n",
    "raw_data['content'] = raw_data['author']+ ' '+ raw_data['title']\n",
    "raw_data['content']"
   ]
  },
  {
   "cell_type": "code",
   "execution_count": 8,
   "id": "59fbfc0e",
   "metadata": {
    "execution": {
     "iopub.execute_input": "2022-07-30T08:08:36.402374Z",
     "iopub.status.busy": "2022-07-30T08:08:36.401658Z",
     "iopub.status.idle": "2022-07-30T08:08:36.413586Z",
     "shell.execute_reply": "2022-07-30T08:08:36.412662Z"
    },
    "papermill": {
     "duration": 0.026596,
     "end_time": "2022-07-30T08:08:36.416157",
     "exception": false,
     "start_time": "2022-07-30T08:08:36.389561",
     "status": "completed"
    },
    "tags": []
   },
   "outputs": [],
   "source": [
    "# seperating the data and label\n",
    "\n",
    "X = raw_data.drop(columns = 'label',axis = 1)\n",
    "y =raw_data['label']"
   ]
  },
  {
   "cell_type": "code",
   "execution_count": 9,
   "id": "1cbbe0d6",
   "metadata": {},
   "outputs": [],
   "source": [
    "#print(X)"
   ]
  },
  {
   "cell_type": "markdown",
   "id": "6d53f73c",
   "metadata": {},
   "source": [
    "Stemming (the process of reducing the words into roots words.)"
   ]
  },
  {
   "cell_type": "code",
   "execution_count": 9,
   "id": "b29739a5",
   "metadata": {
    "execution": {
     "iopub.execute_input": "2022-07-30T08:08:36.544447Z",
     "iopub.status.busy": "2022-07-30T08:08:36.543718Z",
     "iopub.status.idle": "2022-07-30T08:08:36.548395Z",
     "shell.execute_reply": "2022-07-30T08:08:36.547623Z"
    },
    "papermill": {
     "duration": 0.019328,
     "end_time": "2022-07-30T08:08:36.550520",
     "exception": false,
     "start_time": "2022-07-30T08:08:36.531192",
     "status": "completed"
    },
    "tags": []
   },
   "outputs": [],
   "source": [
    "port = PorterStemmer()     "
   ]
  },
  {
   "cell_type": "code",
   "execution_count": 10,
   "id": "2cea1e75",
   "metadata": {
    "execution": {
     "iopub.execute_input": "2022-07-30T08:08:36.574347Z",
     "iopub.status.busy": "2022-07-30T08:08:36.573637Z",
     "iopub.status.idle": "2022-07-30T08:08:36.580316Z",
     "shell.execute_reply": "2022-07-30T08:08:36.579544Z"
    },
    "papermill": {
     "duration": 0.021057,
     "end_time": "2022-07-30T08:08:36.582421",
     "exception": false,
     "start_time": "2022-07-30T08:08:36.561364",
     "status": "completed"
    },
    "tags": []
   },
   "outputs": [],
   "source": [
    "def stemming(content):\n",
    "    stemmed_content = re.sub('[^a-zA-Z]',' ',content) \n",
    "    \n",
    "    #regular expression is useful for searchinmg paragraph for text\n",
    "    # sub is used for substitute the certain value \n",
    "           # used for eleminating ,.and numbers...\n",
    "    stemmed_content = stemmed_content.lower()\n",
    "    stemmed_content = stemmed_content.split()\n",
    "    \n",
    "    #it will cnvert words into list\n",
    "    \n",
    "    stemmed_content = [port.stem(word) for word in stemmed_content if not word in stopwords.words('english')] \n",
    "    \n",
    "    # stemming is used and then stopwords are used because we dont want that words then JOIN all the words.\n",
    "    stemmed_content = ' '.join(stemmed_content)\n",
    "    return stemmed_content "
   ]
  },
  {
   "cell_type": "code",
   "execution_count": 11,
   "id": "6063fcb9",
   "metadata": {
    "execution": {
     "iopub.execute_input": "2022-07-30T08:08:36.606395Z",
     "iopub.status.busy": "2022-07-30T08:08:36.605697Z",
     "iopub.status.idle": "2022-07-30T08:09:20.425566Z",
     "shell.execute_reply": "2022-07-30T08:09:20.424427Z"
    },
    "papermill": {
     "duration": 43.835195,
     "end_time": "2022-07-30T08:09:20.428442",
     "exception": false,
     "start_time": "2022-07-30T08:08:36.593247",
     "status": "completed"
    },
    "tags": []
   },
   "outputs": [],
   "source": [
    "raw_data['content'] = raw_data['content'].apply(stemming)"
   ]
  },
  {
   "cell_type": "code",
   "execution_count": 13,
   "id": "3f963a0d",
   "metadata": {
    "execution": {
     "iopub.execute_input": "2022-07-30T08:09:20.452471Z",
     "iopub.status.busy": "2022-07-30T08:09:20.451707Z",
     "iopub.status.idle": "2022-07-30T08:09:20.459235Z",
     "shell.execute_reply": "2022-07-30T08:09:20.458543Z"
    },
    "papermill": {
     "duration": 0.021312,
     "end_time": "2022-07-30T08:09:20.461093",
     "exception": false,
     "start_time": "2022-07-30T08:09:20.439781",
     "status": "completed"
    },
    "tags": []
   },
   "outputs": [],
   "source": [
    "#raw_data['content']"
   ]
  },
  {
   "cell_type": "code",
   "execution_count": 31,
   "id": "2ddbf7a6",
   "metadata": {
    "execution": {
     "iopub.execute_input": "2022-07-30T08:09:20.484827Z",
     "iopub.status.busy": "2022-07-30T08:09:20.484156Z",
     "iopub.status.idle": "2022-07-30T08:09:20.489596Z",
     "shell.execute_reply": "2022-07-30T08:09:20.488611Z"
    },
    "papermill": {
     "duration": 0.01973,
     "end_time": "2022-07-30T08:09:20.491831",
     "exception": false,
     "start_time": "2022-07-30T08:09:20.472101",
     "status": "completed"
    },
    "tags": []
   },
   "outputs": [],
   "source": [
    "X = raw_data['content'].values\n",
    "y = raw_data['label'].values"
   ]
  },
  {
   "cell_type": "code",
   "execution_count": 32,
   "id": "619785ee",
   "metadata": {},
   "outputs": [
    {
     "name": "stdout",
     "output_type": "stream",
     "text": [
      "['darrel lucu hous dem aid even see comey letter jason chaffetz tweet'\n",
      " 'daniel j flynn flynn hillari clinton big woman campu breitbart'\n",
      " 'consortiumnew com truth might get fire' ...\n",
      " 'michael j de la merc rachel abram maci said receiv takeov approach hudson bay new york time'\n",
      " 'alex ansari nato russia hold parallel exercis balkan'\n",
      " 'david swanson keep f aliv']\n"
     ]
    }
   ],
   "source": [
    "print(X)"
   ]
  },
  {
   "cell_type": "markdown",
   "id": "85da6888",
   "metadata": {},
   "source": [
    "TF-IDF Vectorizor"
   ]
  },
  {
   "cell_type": "code",
   "execution_count": 13,
   "id": "ac0d708d",
   "metadata": {
    "execution": {
     "iopub.execute_input": "2022-07-30T08:09:20.610934Z",
     "iopub.status.busy": "2022-07-30T08:09:20.610572Z",
     "iopub.status.idle": "2022-07-30T08:09:21.280085Z",
     "shell.execute_reply": "2022-07-30T08:09:21.279092Z"
    },
    "papermill": {
     "duration": 0.684812,
     "end_time": "2022-07-30T08:09:21.282833",
     "exception": false,
     "start_time": "2022-07-30T08:09:20.598021",
     "status": "completed"
    },
    "tags": []
   },
   "outputs": [],
   "source": [
    "#converting the textual into numerical data\n",
    "\n",
    "vectorizer = TfidfVectorizer()\n",
    "vectorizer.fit(X)\n",
    "X = vectorizer.transform(X)"
   ]
  },
  {
   "cell_type": "code",
   "execution_count": 28,
   "id": "9a065c2e",
   "metadata": {
    "execution": {
     "iopub.execute_input": "2022-07-30T08:09:21.308071Z",
     "iopub.status.busy": "2022-07-30T08:09:21.307705Z",
     "iopub.status.idle": "2022-07-30T08:09:21.317449Z",
     "shell.execute_reply": "2022-07-30T08:09:21.315961Z"
    },
    "papermill": {
     "duration": 0.025579,
     "end_time": "2022-07-30T08:09:21.320253",
     "exception": false,
     "start_time": "2022-07-30T08:09:21.294674",
     "status": "completed"
    },
    "tags": []
   },
   "outputs": [
    {
     "name": "stdout",
     "output_type": "stream",
     "text": [
      "  (0, 15686)\t0.28485063562728646\n",
      "  (0, 13473)\t0.2565896679337957\n",
      "  (0, 8909)\t0.3635963806326075\n",
      "  (0, 8630)\t0.29212514087043684\n",
      "  (0, 7692)\t0.24785219520671603\n",
      "  (0, 7005)\t0.21874169089359144\n",
      "  (0, 4973)\t0.233316966909351\n",
      "  (0, 3792)\t0.2705332480845492\n",
      "  (0, 3600)\t0.3598939188262559\n",
      "  (0, 2959)\t0.2468450128533713\n",
      "  (0, 2483)\t0.3676519686797209\n",
      "  (0, 267)\t0.27010124977708766\n",
      "  (1, 16799)\t0.30071745655510157\n",
      "  (1, 6816)\t0.1904660198296849\n",
      "  (1, 5503)\t0.7143299355715573\n",
      "  (1, 3568)\t0.26373768806048464\n",
      "  (1, 2813)\t0.19094574062359204\n",
      "  (1, 2223)\t0.3827320386859759\n",
      "  (1, 1894)\t0.15521974226349364\n",
      "  (1, 1497)\t0.2939891562094648\n",
      "  (2, 15611)\t0.41544962664721613\n",
      "  (2, 9620)\t0.49351492943649944\n",
      "  (2, 5968)\t0.3474613386728292\n",
      "  (2, 5389)\t0.3866530551182615\n",
      "  (2, 3103)\t0.46097489583229645\n",
      "  :\t:\n",
      "  (20797, 13122)\t0.2482526352197606\n",
      "  (20797, 12344)\t0.27263457663336677\n",
      "  (20797, 12138)\t0.24778257724396507\n",
      "  (20797, 10306)\t0.08038079000566466\n",
      "  (20797, 9588)\t0.174553480255222\n",
      "  (20797, 9518)\t0.2954204003420313\n",
      "  (20797, 8988)\t0.36160868928090795\n",
      "  (20797, 8364)\t0.22322585870464118\n",
      "  (20797, 7042)\t0.21799048897828688\n",
      "  (20797, 3643)\t0.21155500613623743\n",
      "  (20797, 1287)\t0.33538056804139865\n",
      "  (20797, 699)\t0.30685846079762347\n",
      "  (20797, 43)\t0.29710241860700626\n",
      "  (20798, 13046)\t0.22363267488270608\n",
      "  (20798, 11052)\t0.4460515589182236\n",
      "  (20798, 10177)\t0.3192496370187028\n",
      "  (20798, 6889)\t0.32496285694299426\n",
      "  (20798, 5032)\t0.4083701450239529\n",
      "  (20798, 1125)\t0.4460515589182236\n",
      "  (20798, 588)\t0.3112141524638974\n",
      "  (20798, 350)\t0.28446937819072576\n",
      "  (20799, 14852)\t0.5677577267055112\n",
      "  (20799, 8036)\t0.45983893273780013\n",
      "  (20799, 3623)\t0.37927626273066584\n",
      "  (20799, 377)\t0.5677577267055112\n"
     ]
    }
   ],
   "source": [
    "print(X)"
   ]
  },
  {
   "cell_type": "markdown",
   "id": "6cf1ff81",
   "metadata": {},
   "source": [
    "Traing and Testing The Data"
   ]
  },
  {
   "cell_type": "code",
   "execution_count": 14,
   "id": "7725d3b0",
   "metadata": {
    "execution": {
     "iopub.execute_input": "2022-07-30T08:09:21.344978Z",
     "iopub.status.busy": "2022-07-30T08:09:21.344638Z",
     "iopub.status.idle": "2022-07-30T08:09:21.349312Z",
     "shell.execute_reply": "2022-07-30T08:09:21.348137Z"
    },
    "papermill": {
     "duration": 0.019574,
     "end_time": "2022-07-30T08:09:21.351469",
     "exception": false,
     "start_time": "2022-07-30T08:09:21.331895",
     "status": "completed"
    },
    "tags": []
   },
   "outputs": [],
   "source": [
    "from sklearn.model_selection import train_test_split"
   ]
  },
  {
   "cell_type": "code",
   "execution_count": 15,
   "id": "9d139cc0",
   "metadata": {
    "execution": {
     "iopub.execute_input": "2022-07-30T08:09:21.376496Z",
     "iopub.status.busy": "2022-07-30T08:09:21.375720Z",
     "iopub.status.idle": "2022-07-30T08:09:21.384189Z",
     "shell.execute_reply": "2022-07-30T08:09:21.383455Z"
    },
    "papermill": {
     "duration": 0.023404,
     "end_time": "2022-07-30T08:09:21.386370",
     "exception": false,
     "start_time": "2022-07-30T08:09:21.362966",
     "status": "completed"
    },
    "tags": []
   },
   "outputs": [],
   "source": [
    "X_train, X_test, y_train, y_test = train_test_split(X, y, test_size=0.33, random_state=42)"
   ]
  },
  {
   "cell_type": "markdown",
   "id": "fedde0e6",
   "metadata": {},
   "source": [
    "Logistic Regression"
   ]
  },
  {
   "cell_type": "code",
   "execution_count": 16,
   "id": "6b53f85a",
   "metadata": {
    "execution": {
     "iopub.execute_input": "2022-07-30T08:09:21.412044Z",
     "iopub.status.busy": "2022-07-30T08:09:21.411322Z",
     "iopub.status.idle": "2022-07-30T08:09:21.416004Z",
     "shell.execute_reply": "2022-07-30T08:09:21.415263Z"
    },
    "papermill": {
     "duration": 0.020105,
     "end_time": "2022-07-30T08:09:21.418081",
     "exception": false,
     "start_time": "2022-07-30T08:09:21.397976",
     "status": "completed"
    },
    "tags": []
   },
   "outputs": [],
   "source": [
    "from sklearn.linear_model import LogisticRegression"
   ]
  },
  {
   "cell_type": "code",
   "execution_count": 17,
   "id": "d92213e5",
   "metadata": {
    "execution": {
     "iopub.execute_input": "2022-07-30T08:09:21.443033Z",
     "iopub.status.busy": "2022-07-30T08:09:21.442311Z",
     "iopub.status.idle": "2022-07-30T08:09:21.833223Z",
     "shell.execute_reply": "2022-07-30T08:09:21.831911Z"
    },
    "papermill": {
     "duration": 0.407033,
     "end_time": "2022-07-30T08:09:21.836627",
     "exception": false,
     "start_time": "2022-07-30T08:09:21.429594",
     "status": "completed"
    },
    "tags": []
   },
   "outputs": [
    {
     "data": {
      "text/plain": [
       "array([1, 1, 0, ..., 0, 0, 0], dtype=int64)"
      ]
     },
     "execution_count": 17,
     "metadata": {},
     "output_type": "execute_result"
    }
   ],
   "source": [
    "lm = LogisticRegression()\n",
    "lm.fit(X_train,y_train)\n",
    "predictions = lm.predict(X_test)\n",
    "predictions"
   ]
  },
  {
   "cell_type": "code",
   "execution_count": 27,
   "id": "de02738b",
   "metadata": {},
   "outputs": [
    {
     "name": "stdout",
     "output_type": "stream",
     "text": [
      "  (0, 16348)\t0.22583100441636614\n",
      "  (0, 15186)\t0.39848485655580945\n",
      "  (0, 14932)\t0.29893567442456387\n",
      "  (0, 13473)\t0.27475791963366003\n",
      "  (0, 12771)\t0.2883148928980967\n",
      "  (0, 12305)\t0.27716565528409937\n",
      "  (0, 11684)\t0.25367875912575993\n",
      "  (0, 6565)\t0.31054968535837807\n",
      "  (0, 4625)\t0.19641692014138545\n",
      "  (0, 1465)\t0.4354344005745577\n",
      "  (0, 114)\t0.27646465077777255\n",
      "  (1, 15582)\t0.1498653484999072\n",
      "  (1, 14444)\t0.26400020318193473\n",
      "  (1, 13503)\t0.4512102901935686\n",
      "  (1, 13046)\t0.2563994975288171\n",
      "  (1, 12774)\t0.2988350814382177\n",
      "  (1, 10315)\t0.23985909373735884\n",
      "  (1, 3721)\t0.37257665177690863\n",
      "  (1, 809)\t0.42107119803033977\n",
      "  (1, 421)\t0.4190032645727401\n",
      "  (2, 16996)\t0.10545861987603505\n",
      "  (2, 15582)\t0.13124949250519383\n",
      "  (2, 15295)\t0.10347523220532906\n",
      "  (2, 13270)\t0.2168795415288745\n",
      "  (2, 12404)\t0.376783399672724\n",
      "  :\t:\n",
      "  (6861, 6565)\t0.3105313664671413\n",
      "  (6861, 2497)\t0.4669896832369383\n",
      "  (6861, 1337)\t0.3751872634036101\n",
      "  (6862, 15743)\t0.36378564161340754\n",
      "  (6862, 15142)\t0.25928190896485054\n",
      "  (6862, 14383)\t0.3212882767175027\n",
      "  (6862, 9613)\t0.42635036329988807\n",
      "  (6862, 8197)\t0.2750386248337278\n",
      "  (6862, 8137)\t0.21459473618996816\n",
      "  (6862, 7842)\t0.32475668011763614\n",
      "  (6862, 7596)\t0.24759728448645474\n",
      "  (6862, 3364)\t0.2600382342280935\n",
      "  (6862, 1894)\t0.1290024589005445\n",
      "  (6862, 1595)\t0.27290499082352454\n",
      "  (6862, 5)\t0.2611991489289555\n",
      "  (6863, 12504)\t0.3013810992711132\n",
      "  (6863, 11811)\t0.29065084766658605\n",
      "  (6863, 11269)\t0.3433093843775598\n",
      "  (6863, 10705)\t0.26243151762501493\n",
      "  (6863, 10535)\t0.35544170574797335\n",
      "  (6863, 9863)\t0.32829496441157396\n",
      "  (6863, 3136)\t0.3235105995284928\n",
      "  (6863, 2387)\t0.36825290335881644\n",
      "  (6863, 1766)\t0.2815823144220462\n",
      "  (6863, 1691)\t0.2903197968282197\n"
     ]
    }
   ],
   "source": [
    "print(X_test)"
   ]
  },
  {
   "cell_type": "markdown",
   "id": "fdfa3c98",
   "metadata": {},
   "source": [
    "Anonymous Donor Pays $2.5 Million To Release Everyone Arrested At The Dakota Access Pipelinefake (1) : ''\n"
   ]
  },
  {
   "cell_type": "markdown",
   "id": "d43dd60c",
   "metadata": {},
   "source": [
    "Real (0) : 'Russia Moves to Ban Jehovah’s Witnesses as ‘Extremist’ - The New York Times'"
   ]
  },
  {
   "cell_type": "code",
   "execution_count": 18,
   "id": "f094300a",
   "metadata": {},
   "outputs": [],
   "source": [
    "# Function to detect Fake News\n",
    "def fake_news_det(news):\n",
    "    input_data = [news]\n",
    "    vectorized_input_data = vectorizer.transform(input_data)\n",
    "    prediction = lm.predict(vectorized_input_data)\n",
    "    print(prediction)\n",
    "    return prediction\n",
    "    # if prediction == 1:\n",
    "    #     # print('Fake')\n",
    "    #     return 1\n",
    "    # else:\n",
    "    #     # print('Real')\n",
    "    #     return 0"
   ]
  },
  {
   "cell_type": "code",
   "execution_count": 19,
   "id": "33678959",
   "metadata": {},
   "outputs": [
    {
     "name": "stdout",
     "output_type": "stream",
     "text": [
      "[0]\n"
     ]
    },
    {
     "data": {
      "text/plain": [
       "array([0], dtype=int64)"
      ]
     },
     "execution_count": 19,
     "metadata": {},
     "output_type": "execute_result"
    }
   ],
   "source": [
    "fake_news_det('Jackie Mason: Hollywood Would Love Trump if He Bombed North Korea over Lack of Trans Bathrooms (Exclusive Video) - Breitbart')"
   ]
  },
  {
   "cell_type": "markdown",
   "id": "e8c87528",
   "metadata": {},
   "source": [
    "Plot Confusion Matrix"
   ]
  },
  {
   "cell_type": "code",
   "execution_count": 20,
   "id": "2e5ff554",
   "metadata": {},
   "outputs": [],
   "source": [
    "import matplotlib.pyplot as plt\n",
    "from sklearn import metrics\n",
    "import itertools\n",
    "\n",
    "def plot_confusion_matrix(cm, classes,normalize=False,title='Confusion matrix',cmap=plt.cm.Blues):\n",
    "    \n",
    "    plt.imshow(cm, interpolation='nearest', cmap=cmap)\n",
    "    plt.title(title)\n",
    "    plt.colorbar()\n",
    "    tick_marks = np.arange(len(classes))\n",
    "    plt.xticks(tick_marks, classes, rotation=45)\n",
    "    plt.yticks(tick_marks, classes)\n",
    "\n",
    "    if normalize:\n",
    "        cm = cm.astype('float') / cm.sum(axis=1)[:, np.newaxis]\n",
    "        print(\"Normalized confusion matrix\")\n",
    "    else:\n",
    "        print('Confusion matrix, without normalization')\n",
    "\n",
    "    thresh = cm.max() / 2.\n",
    "    for i, j in itertools.product(range(cm.shape[0]), range(cm.shape[1])):\n",
    "        plt.text(j, i, cm[i, j],horizontalalignment=\"center\",color=\"white\" if cm[i, j] > thresh else \"black\")\n",
    "\n",
    "    plt.tight_layout()\n",
    "    plt.ylabel('True label')\n",
    "    plt.xlabel('Predicted label')"
   ]
  },
  {
   "cell_type": "code",
   "execution_count": 21,
   "id": "ff146b41",
   "metadata": {},
   "outputs": [
    {
     "name": "stdout",
     "output_type": "stream",
     "text": [
      "accuracy:   0.972\n",
      "Confusion matrix, without normalization\n"
     ]
    },
    {
     "data": {
      "image/png": "[encoded data removed]",
      "text/plain": [
       "<Figure size 432x288 with 2 Axes>"
      ]
     },
     "metadata": {
      "needs_background": "light"
     },
     "output_type": "display_data"
    }
   ],
   "source": [
    "score = metrics.accuracy_score(y_test, predictions)\n",
    "print(\"accuracy:   %0.3f\" % score)\n",
    "cm = metrics.confusion_matrix(y_test, predictions)\n",
    "plot_confusion_matrix(cm, classes=['FAKE', 'REAL'])"
   ]
  },
  {
   "cell_type": "code",
   "execution_count": 26,
   "id": "19cdfbcd",
   "metadata": {},
   "outputs": [],
   "source": [
    "#print(predictions)"
   ]
  },
  {
   "cell_type": "code",
   "execution_count": 22,
   "id": "10c22bf0",
   "metadata": {
    "execution": {
     "iopub.execute_input": "2022-07-30T08:09:21.959721Z",
     "iopub.status.busy": "2022-07-30T08:09:21.959375Z",
     "iopub.status.idle": "2022-07-30T08:09:21.979641Z",
     "shell.execute_reply": "2022-07-30T08:09:21.978817Z"
    },
    "papermill": {
     "duration": 0.035848,
     "end_time": "2022-07-30T08:09:21.982655",
     "exception": false,
     "start_time": "2022-07-30T08:09:21.946807",
     "status": "completed"
    },
    "tags": []
   },
   "outputs": [
    {
     "name": "stdout",
     "output_type": "stream",
     "text": [
      "              precision    recall  f1-score   support\n",
      "\n",
      "           0       0.99      0.96      0.97      3449\n",
      "           1       0.96      0.99      0.97      3415\n",
      "\n",
      "    accuracy                           0.97      6864\n",
      "   macro avg       0.97      0.97      0.97      6864\n",
      "weighted avg       0.97      0.97      0.97      6864\n",
      "\n"
     ]
    }
   ],
   "source": [
    "print(classification_report(y_test,predictions))"
   ]
  },
  {
   "cell_type": "code",
   "execution_count": 23,
   "id": "a97426ec",
   "metadata": {},
   "outputs": [
    {
     "name": "stdout",
     "output_type": "stream",
     "text": [
      "[0]\n",
      "The News is Real\n"
     ]
    }
   ],
   "source": [
    "user_input = input(\"Enter News \")\n",
    "pred = fake_news_det(user_input)\n",
    "if(pred==0):\n",
    "    print(\"The News is Real\")\n",
    "else:\n",
    "    print(\"The news is Fake\")"
   ]
  },
  {
   "cell_type": "code",
   "execution_count": 24,
   "id": "b4970b9c",
   "metadata": {},
   "outputs": [],
   "source": [
    "import pickle"
   ]
  },
  {
   "cell_type": "code",
   "execution_count": 25,
   "id": "e84d6f81",
   "metadata": {},
   "outputs": [],
   "source": [
    "filename = 'news_det_model'\n",
    "pickle.dump(lm,open(filename,'wb'))"
   ]
  },
  {
   "cell_type": "code",
   "execution_count": 26,
   "id": "adf5bd98",
   "metadata": {},
   "outputs": [
    {
     "data": {
      "text/plain": [
       "array([1, 1, 0, ..., 0, 0, 0], dtype=int64)"
      ]
     },
     "execution_count": 26,
     "metadata": {},
     "output_type": "execute_result"
    }
   ],
   "source": [
    "loaded_model = pickle.load(open(filename,'rb'))\n",
    "loaded_model.predict(X_test)"
   ]
  }
 ],
 "metadata": {
  "kernelspec": {
   "display_name": "Python 3.9.13 64-bit",
   "language": "python",
   "name": "python3"
  },
  "language_info": {
   "codemirror_mode": {
    "name": "ipython",
    "version": 3
   },
   "file_extension": ".py",
   "mimetype": "text/x-python",
   "name": "python",
   "nbconvert_exporter": "python",
   "pygments_lexer": "ipython3",
   "version": "3.9.13"
  },
  "papermill": {
   "default_parameters": {},
   "duration": 60.907797,
   "end_time": "2022-07-30T08:09:22.773656",
   "environment_variables": {},
   "exception": null,
   "input_path": "__notebook__.ipynb",
   "output_path": "__notebook__.ipynb",
   "parameters": {},
   "start_time": "2022-07-30T08:08:21.865859",
   "version": "2.3.4"
  },
  "vscode": {
   "interpreter": {
    "hash": "8e284ee3255a07ad8bf76694974743c4c81cb57e7c969474d752d949b11d721e"
   }
  }
 },
 "nbformat": 4,
 "nbformat_minor": 5
}
